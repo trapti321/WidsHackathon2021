{
 "cells": [
  {
   "cell_type": "markdown",
   "metadata": {},
   "source": [
    "# Hello everyone,\n",
    "\n",
    "Welcome to my notebook\n",
    "As we know our problem statement is to identify the Person Diabetics \n",
    "\n",
    "Now,\n",
    "\n",
    "Importing the required Libraries."
   ]
  },
  {
   "cell_type": "code",
   "execution_count": 1,
   "metadata": {},
   "outputs": [],
   "source": [
    "import numpy as np\n",
    "import pandas as pd\n",
    "import matplotlib.pyplot as plt\n",
    "%matplotlib inline\n",
    "import seaborn as sns\n",
    "\n",
    "\n",
    "# import octopus_ml as oc\n",
    "from sklearn.model_selection import train_test_split,cross_val_score\n",
    "from sklearn.metrics import roc_auc_score,roc_curve\n",
    "from catboost import CatBoostClassifier,Pool"
   ]
  },
  {
   "cell_type": "markdown",
   "metadata": {},
   "source": [
    "# For Saving our Prediction files \n",
    "We need to create a dataframe "
   ]
  },
  {
   "cell_type": "code",
   "execution_count": 2,
   "metadata": {},
   "outputs": [],
   "source": [
    "def download_preds(preds_test, file_name = 'sub.csv'):\n",
    "    df = pd.DataFrame()\n",
    "    ## 1. Setting the target column with our obtained predictions\n",
    "    df['encounter_id'] = test['encounter_id']\n",
    "    df['diabetes_mellitus'] = preds_test\n",
    "    ## 2. Saving our predictions to a csv file\n",
    "    df.to_csv(file_name, index = False)"
   ]
  },
  {
   "cell_type": "markdown",
   "metadata": {},
   "source": [
    "# Step 1\n",
    "\n",
    "1.Importing the data into our pandas.\n",
    "\n",
    "2.Train (saving are training dataset ).\n",
    "\n",
    "3.Test (saving are testing dataset)"
   ]
  },
  {
   "cell_type": "code",
   "execution_count": 3,
   "metadata": {},
   "outputs": [
    {
     "data": {
      "text/html": [
       "<div>\n",
       "<style scoped>\n",
       "    .dataframe tbody tr th:only-of-type {\n",
       "        vertical-align: middle;\n",
       "    }\n",
       "\n",
       "    .dataframe tbody tr th {\n",
       "        vertical-align: top;\n",
       "    }\n",
       "\n",
       "    .dataframe thead th {\n",
       "        text-align: right;\n",
       "    }\n",
       "</style>\n",
       "<table border=\"1\" class=\"dataframe\">\n",
       "  <thead>\n",
       "    <tr style=\"text-align: right;\">\n",
       "      <th></th>\n",
       "      <th>Unnamed: 0</th>\n",
       "      <th>encounter_id</th>\n",
       "      <th>hospital_id</th>\n",
       "      <th>age</th>\n",
       "      <th>bmi</th>\n",
       "      <th>elective_surgery</th>\n",
       "      <th>ethnicity</th>\n",
       "      <th>gender</th>\n",
       "      <th>height</th>\n",
       "      <th>hospital_admit_source</th>\n",
       "      <th>...</th>\n",
       "      <th>h1_pao2fio2ratio_max</th>\n",
       "      <th>h1_pao2fio2ratio_min</th>\n",
       "      <th>aids</th>\n",
       "      <th>cirrhosis</th>\n",
       "      <th>hepatic_failure</th>\n",
       "      <th>immunosuppression</th>\n",
       "      <th>leukemia</th>\n",
       "      <th>lymphoma</th>\n",
       "      <th>solid_tumor_with_metastasis</th>\n",
       "      <th>diabetes_mellitus</th>\n",
       "    </tr>\n",
       "  </thead>\n",
       "  <tbody>\n",
       "    <tr>\n",
       "      <th>0</th>\n",
       "      <td>1</td>\n",
       "      <td>214826</td>\n",
       "      <td>118</td>\n",
       "      <td>68.0</td>\n",
       "      <td>22.732803</td>\n",
       "      <td>0</td>\n",
       "      <td>Caucasian</td>\n",
       "      <td>M</td>\n",
       "      <td>180.3</td>\n",
       "      <td>Floor</td>\n",
       "      <td>...</td>\n",
       "      <td>NaN</td>\n",
       "      <td>NaN</td>\n",
       "      <td>0</td>\n",
       "      <td>0</td>\n",
       "      <td>0</td>\n",
       "      <td>0</td>\n",
       "      <td>0</td>\n",
       "      <td>0</td>\n",
       "      <td>0</td>\n",
       "      <td>1</td>\n",
       "    </tr>\n",
       "    <tr>\n",
       "      <th>1</th>\n",
       "      <td>2</td>\n",
       "      <td>246060</td>\n",
       "      <td>81</td>\n",
       "      <td>77.0</td>\n",
       "      <td>27.421875</td>\n",
       "      <td>0</td>\n",
       "      <td>Caucasian</td>\n",
       "      <td>F</td>\n",
       "      <td>160.0</td>\n",
       "      <td>Floor</td>\n",
       "      <td>...</td>\n",
       "      <td>51.0</td>\n",
       "      <td>51.0</td>\n",
       "      <td>0</td>\n",
       "      <td>0</td>\n",
       "      <td>0</td>\n",
       "      <td>0</td>\n",
       "      <td>0</td>\n",
       "      <td>0</td>\n",
       "      <td>0</td>\n",
       "      <td>1</td>\n",
       "    </tr>\n",
       "    <tr>\n",
       "      <th>2</th>\n",
       "      <td>3</td>\n",
       "      <td>276985</td>\n",
       "      <td>118</td>\n",
       "      <td>25.0</td>\n",
       "      <td>31.952749</td>\n",
       "      <td>0</td>\n",
       "      <td>Caucasian</td>\n",
       "      <td>F</td>\n",
       "      <td>172.7</td>\n",
       "      <td>Emergency Department</td>\n",
       "      <td>...</td>\n",
       "      <td>NaN</td>\n",
       "      <td>NaN</td>\n",
       "      <td>0</td>\n",
       "      <td>0</td>\n",
       "      <td>0</td>\n",
       "      <td>0</td>\n",
       "      <td>0</td>\n",
       "      <td>0</td>\n",
       "      <td>0</td>\n",
       "      <td>0</td>\n",
       "    </tr>\n",
       "    <tr>\n",
       "      <th>3</th>\n",
       "      <td>4</td>\n",
       "      <td>262220</td>\n",
       "      <td>118</td>\n",
       "      <td>81.0</td>\n",
       "      <td>22.635548</td>\n",
       "      <td>1</td>\n",
       "      <td>Caucasian</td>\n",
       "      <td>F</td>\n",
       "      <td>165.1</td>\n",
       "      <td>Operating Room</td>\n",
       "      <td>...</td>\n",
       "      <td>337.0</td>\n",
       "      <td>337.0</td>\n",
       "      <td>0</td>\n",
       "      <td>0</td>\n",
       "      <td>0</td>\n",
       "      <td>0</td>\n",
       "      <td>0</td>\n",
       "      <td>0</td>\n",
       "      <td>0</td>\n",
       "      <td>0</td>\n",
       "    </tr>\n",
       "    <tr>\n",
       "      <th>4</th>\n",
       "      <td>5</td>\n",
       "      <td>201746</td>\n",
       "      <td>33</td>\n",
       "      <td>19.0</td>\n",
       "      <td>NaN</td>\n",
       "      <td>0</td>\n",
       "      <td>Caucasian</td>\n",
       "      <td>M</td>\n",
       "      <td>188.0</td>\n",
       "      <td>NaN</td>\n",
       "      <td>...</td>\n",
       "      <td>NaN</td>\n",
       "      <td>NaN</td>\n",
       "      <td>0</td>\n",
       "      <td>0</td>\n",
       "      <td>0</td>\n",
       "      <td>0</td>\n",
       "      <td>0</td>\n",
       "      <td>0</td>\n",
       "      <td>0</td>\n",
       "      <td>0</td>\n",
       "    </tr>\n",
       "  </tbody>\n",
       "</table>\n",
       "<p>5 rows × 181 columns</p>\n",
       "</div>"
      ],
      "text/plain": [
       "   Unnamed: 0  encounter_id  hospital_id   age        bmi  elective_surgery  \\\n",
       "0           1        214826          118  68.0  22.732803                 0   \n",
       "1           2        246060           81  77.0  27.421875                 0   \n",
       "2           3        276985          118  25.0  31.952749                 0   \n",
       "3           4        262220          118  81.0  22.635548                 1   \n",
       "4           5        201746           33  19.0        NaN                 0   \n",
       "\n",
       "   ethnicity gender  height hospital_admit_source  ... h1_pao2fio2ratio_max  \\\n",
       "0  Caucasian      M   180.3                 Floor  ...                  NaN   \n",
       "1  Caucasian      F   160.0                 Floor  ...                 51.0   \n",
       "2  Caucasian      F   172.7  Emergency Department  ...                  NaN   \n",
       "3  Caucasian      F   165.1        Operating Room  ...                337.0   \n",
       "4  Caucasian      M   188.0                   NaN  ...                  NaN   \n",
       "\n",
       "   h1_pao2fio2ratio_min aids cirrhosis  hepatic_failure  immunosuppression  \\\n",
       "0                   NaN    0         0                0                  0   \n",
       "1                  51.0    0         0                0                  0   \n",
       "2                   NaN    0         0                0                  0   \n",
       "3                 337.0    0         0                0                  0   \n",
       "4                   NaN    0         0                0                  0   \n",
       "\n",
       "   leukemia  lymphoma  solid_tumor_with_metastasis  diabetes_mellitus  \n",
       "0         0         0                            0                  1  \n",
       "1         0         0                            0                  1  \n",
       "2         0         0                            0                  0  \n",
       "3         0         0                            0                  0  \n",
       "4         0         0                            0                  0  \n",
       "\n",
       "[5 rows x 181 columns]"
      ]
     },
     "execution_count": 3,
     "metadata": {},
     "output_type": "execute_result"
    }
   ],
   "source": [
    "train=pd.read_csv('train_base.csv')\n",
    "test=pd.read_csv('test_base.csv')\n",
    "train.head()"
   ]
  },
  {
   "cell_type": "markdown",
   "metadata": {},
   "source": [
    "# Step 2 \n",
    "\n",
    "# Exploring the Data\n",
    "Train and Test"
   ]
  },
  {
   "cell_type": "code",
   "execution_count": 4,
   "metadata": {},
   "outputs": [
    {
     "data": {
      "text/html": [
       "<div>\n",
       "<style scoped>\n",
       "    .dataframe tbody tr th:only-of-type {\n",
       "        vertical-align: middle;\n",
       "    }\n",
       "\n",
       "    .dataframe tbody tr th {\n",
       "        vertical-align: top;\n",
       "    }\n",
       "\n",
       "    .dataframe thead th {\n",
       "        text-align: right;\n",
       "    }\n",
       "</style>\n",
       "<table border=\"1\" class=\"dataframe\">\n",
       "  <thead>\n",
       "    <tr style=\"text-align: right;\">\n",
       "      <th></th>\n",
       "      <th>Unnamed: 0</th>\n",
       "      <th>encounter_id</th>\n",
       "      <th>hospital_id</th>\n",
       "      <th>age</th>\n",
       "      <th>bmi</th>\n",
       "      <th>elective_surgery</th>\n",
       "      <th>ethnicity</th>\n",
       "      <th>gender</th>\n",
       "      <th>height</th>\n",
       "      <th>hospital_admit_source</th>\n",
       "      <th>...</th>\n",
       "      <th>h1_pao2fio2ratio_max</th>\n",
       "      <th>h1_pao2fio2ratio_min</th>\n",
       "      <th>aids</th>\n",
       "      <th>cirrhosis</th>\n",
       "      <th>hepatic_failure</th>\n",
       "      <th>immunosuppression</th>\n",
       "      <th>leukemia</th>\n",
       "      <th>lymphoma</th>\n",
       "      <th>solid_tumor_with_metastasis</th>\n",
       "      <th>diabetes_mellitus</th>\n",
       "    </tr>\n",
       "  </thead>\n",
       "  <tbody>\n",
       "    <tr>\n",
       "      <th>0</th>\n",
       "      <td>1</td>\n",
       "      <td>214826</td>\n",
       "      <td>118</td>\n",
       "      <td>68.0</td>\n",
       "      <td>22.732803</td>\n",
       "      <td>0</td>\n",
       "      <td>Caucasian</td>\n",
       "      <td>M</td>\n",
       "      <td>180.3</td>\n",
       "      <td>Floor</td>\n",
       "      <td>...</td>\n",
       "      <td>NaN</td>\n",
       "      <td>NaN</td>\n",
       "      <td>0</td>\n",
       "      <td>0</td>\n",
       "      <td>0</td>\n",
       "      <td>0</td>\n",
       "      <td>0</td>\n",
       "      <td>0</td>\n",
       "      <td>0</td>\n",
       "      <td>1</td>\n",
       "    </tr>\n",
       "    <tr>\n",
       "      <th>1</th>\n",
       "      <td>2</td>\n",
       "      <td>246060</td>\n",
       "      <td>81</td>\n",
       "      <td>77.0</td>\n",
       "      <td>27.421875</td>\n",
       "      <td>0</td>\n",
       "      <td>Caucasian</td>\n",
       "      <td>F</td>\n",
       "      <td>160.0</td>\n",
       "      <td>Floor</td>\n",
       "      <td>...</td>\n",
       "      <td>51.0</td>\n",
       "      <td>51.0</td>\n",
       "      <td>0</td>\n",
       "      <td>0</td>\n",
       "      <td>0</td>\n",
       "      <td>0</td>\n",
       "      <td>0</td>\n",
       "      <td>0</td>\n",
       "      <td>0</td>\n",
       "      <td>1</td>\n",
       "    </tr>\n",
       "    <tr>\n",
       "      <th>2</th>\n",
       "      <td>3</td>\n",
       "      <td>276985</td>\n",
       "      <td>118</td>\n",
       "      <td>25.0</td>\n",
       "      <td>31.952749</td>\n",
       "      <td>0</td>\n",
       "      <td>Caucasian</td>\n",
       "      <td>F</td>\n",
       "      <td>172.7</td>\n",
       "      <td>Emergency Department</td>\n",
       "      <td>...</td>\n",
       "      <td>NaN</td>\n",
       "      <td>NaN</td>\n",
       "      <td>0</td>\n",
       "      <td>0</td>\n",
       "      <td>0</td>\n",
       "      <td>0</td>\n",
       "      <td>0</td>\n",
       "      <td>0</td>\n",
       "      <td>0</td>\n",
       "      <td>0</td>\n",
       "    </tr>\n",
       "    <tr>\n",
       "      <th>3</th>\n",
       "      <td>4</td>\n",
       "      <td>262220</td>\n",
       "      <td>118</td>\n",
       "      <td>81.0</td>\n",
       "      <td>22.635548</td>\n",
       "      <td>1</td>\n",
       "      <td>Caucasian</td>\n",
       "      <td>F</td>\n",
       "      <td>165.1</td>\n",
       "      <td>Operating Room</td>\n",
       "      <td>...</td>\n",
       "      <td>337.0</td>\n",
       "      <td>337.0</td>\n",
       "      <td>0</td>\n",
       "      <td>0</td>\n",
       "      <td>0</td>\n",
       "      <td>0</td>\n",
       "      <td>0</td>\n",
       "      <td>0</td>\n",
       "      <td>0</td>\n",
       "      <td>0</td>\n",
       "    </tr>\n",
       "    <tr>\n",
       "      <th>4</th>\n",
       "      <td>5</td>\n",
       "      <td>201746</td>\n",
       "      <td>33</td>\n",
       "      <td>19.0</td>\n",
       "      <td>NaN</td>\n",
       "      <td>0</td>\n",
       "      <td>Caucasian</td>\n",
       "      <td>M</td>\n",
       "      <td>188.0</td>\n",
       "      <td>NaN</td>\n",
       "      <td>...</td>\n",
       "      <td>NaN</td>\n",
       "      <td>NaN</td>\n",
       "      <td>0</td>\n",
       "      <td>0</td>\n",
       "      <td>0</td>\n",
       "      <td>0</td>\n",
       "      <td>0</td>\n",
       "      <td>0</td>\n",
       "      <td>0</td>\n",
       "      <td>0</td>\n",
       "    </tr>\n",
       "  </tbody>\n",
       "</table>\n",
       "<p>5 rows × 181 columns</p>\n",
       "</div>"
      ],
      "text/plain": [
       "   Unnamed: 0  encounter_id  hospital_id   age        bmi  elective_surgery  \\\n",
       "0           1        214826          118  68.0  22.732803                 0   \n",
       "1           2        246060           81  77.0  27.421875                 0   \n",
       "2           3        276985          118  25.0  31.952749                 0   \n",
       "3           4        262220          118  81.0  22.635548                 1   \n",
       "4           5        201746           33  19.0        NaN                 0   \n",
       "\n",
       "   ethnicity gender  height hospital_admit_source  ... h1_pao2fio2ratio_max  \\\n",
       "0  Caucasian      M   180.3                 Floor  ...                  NaN   \n",
       "1  Caucasian      F   160.0                 Floor  ...                 51.0   \n",
       "2  Caucasian      F   172.7  Emergency Department  ...                  NaN   \n",
       "3  Caucasian      F   165.1        Operating Room  ...                337.0   \n",
       "4  Caucasian      M   188.0                   NaN  ...                  NaN   \n",
       "\n",
       "   h1_pao2fio2ratio_min aids cirrhosis  hepatic_failure  immunosuppression  \\\n",
       "0                   NaN    0         0                0                  0   \n",
       "1                  51.0    0         0                0                  0   \n",
       "2                   NaN    0         0                0                  0   \n",
       "3                 337.0    0         0                0                  0   \n",
       "4                   NaN    0         0                0                  0   \n",
       "\n",
       "   leukemia  lymphoma  solid_tumor_with_metastasis  diabetes_mellitus  \n",
       "0         0         0                            0                  1  \n",
       "1         0         0                            0                  1  \n",
       "2         0         0                            0                  0  \n",
       "3         0         0                            0                  0  \n",
       "4         0         0                            0                  0  \n",
       "\n",
       "[5 rows x 181 columns]"
      ]
     },
     "execution_count": 4,
     "metadata": {},
     "output_type": "execute_result"
    }
   ],
   "source": [
    "train.head()"
   ]
  },
  {
   "cell_type": "code",
   "execution_count": 5,
   "metadata": {},
   "outputs": [
    {
     "data": {
      "text/html": [
       "<div>\n",
       "<style scoped>\n",
       "    .dataframe tbody tr th:only-of-type {\n",
       "        vertical-align: middle;\n",
       "    }\n",
       "\n",
       "    .dataframe tbody tr th {\n",
       "        vertical-align: top;\n",
       "    }\n",
       "\n",
       "    .dataframe thead th {\n",
       "        text-align: right;\n",
       "    }\n",
       "</style>\n",
       "<table border=\"1\" class=\"dataframe\">\n",
       "  <thead>\n",
       "    <tr style=\"text-align: right;\">\n",
       "      <th></th>\n",
       "      <th>Unnamed: 0</th>\n",
       "      <th>encounter_id</th>\n",
       "      <th>hospital_id</th>\n",
       "      <th>age</th>\n",
       "      <th>bmi</th>\n",
       "      <th>elective_surgery</th>\n",
       "      <th>ethnicity</th>\n",
       "      <th>gender</th>\n",
       "      <th>height</th>\n",
       "      <th>hospital_admit_source</th>\n",
       "      <th>...</th>\n",
       "      <th>h1_arterial_po2_min</th>\n",
       "      <th>h1_pao2fio2ratio_max</th>\n",
       "      <th>h1_pao2fio2ratio_min</th>\n",
       "      <th>aids</th>\n",
       "      <th>cirrhosis</th>\n",
       "      <th>hepatic_failure</th>\n",
       "      <th>immunosuppression</th>\n",
       "      <th>leukemia</th>\n",
       "      <th>lymphoma</th>\n",
       "      <th>solid_tumor_with_metastasis</th>\n",
       "    </tr>\n",
       "  </thead>\n",
       "  <tbody>\n",
       "    <tr>\n",
       "      <th>0</th>\n",
       "      <td>1</td>\n",
       "      <td>144740</td>\n",
       "      <td>10141</td>\n",
       "      <td>72</td>\n",
       "      <td>NaN</td>\n",
       "      <td>0</td>\n",
       "      <td>Caucasian</td>\n",
       "      <td>F</td>\n",
       "      <td>152.4</td>\n",
       "      <td>Floor</td>\n",
       "      <td>...</td>\n",
       "      <td>NaN</td>\n",
       "      <td>NaN</td>\n",
       "      <td>NaN</td>\n",
       "      <td>0</td>\n",
       "      <td>0</td>\n",
       "      <td>0</td>\n",
       "      <td>0</td>\n",
       "      <td>0</td>\n",
       "      <td>0</td>\n",
       "      <td>0</td>\n",
       "    </tr>\n",
       "    <tr>\n",
       "      <th>1</th>\n",
       "      <td>2</td>\n",
       "      <td>141990</td>\n",
       "      <td>10141</td>\n",
       "      <td>86</td>\n",
       "      <td>NaN</td>\n",
       "      <td>0</td>\n",
       "      <td>Caucasian</td>\n",
       "      <td>F</td>\n",
       "      <td>175.3</td>\n",
       "      <td>Emergency Department</td>\n",
       "      <td>...</td>\n",
       "      <td>NaN</td>\n",
       "      <td>NaN</td>\n",
       "      <td>NaN</td>\n",
       "      <td>0</td>\n",
       "      <td>0</td>\n",
       "      <td>0</td>\n",
       "      <td>0</td>\n",
       "      <td>0</td>\n",
       "      <td>0</td>\n",
       "      <td>0</td>\n",
       "    </tr>\n",
       "    <tr>\n",
       "      <th>2</th>\n",
       "      <td>3</td>\n",
       "      <td>142038</td>\n",
       "      <td>10141</td>\n",
       "      <td>72</td>\n",
       "      <td>NaN</td>\n",
       "      <td>0</td>\n",
       "      <td>Caucasian</td>\n",
       "      <td>F</td>\n",
       "      <td>162.6</td>\n",
       "      <td>Floor</td>\n",
       "      <td>...</td>\n",
       "      <td>NaN</td>\n",
       "      <td>NaN</td>\n",
       "      <td>NaN</td>\n",
       "      <td>0</td>\n",
       "      <td>0</td>\n",
       "      <td>0</td>\n",
       "      <td>0</td>\n",
       "      <td>0</td>\n",
       "      <td>0</td>\n",
       "      <td>0</td>\n",
       "    </tr>\n",
       "    <tr>\n",
       "      <th>3</th>\n",
       "      <td>4</td>\n",
       "      <td>138628</td>\n",
       "      <td>10141</td>\n",
       "      <td>66</td>\n",
       "      <td>NaN</td>\n",
       "      <td>0</td>\n",
       "      <td>Caucasian</td>\n",
       "      <td>M</td>\n",
       "      <td>177.8</td>\n",
       "      <td>Floor</td>\n",
       "      <td>...</td>\n",
       "      <td>NaN</td>\n",
       "      <td>NaN</td>\n",
       "      <td>NaN</td>\n",
       "      <td>0</td>\n",
       "      <td>0</td>\n",
       "      <td>0</td>\n",
       "      <td>0</td>\n",
       "      <td>0</td>\n",
       "      <td>0</td>\n",
       "      <td>0</td>\n",
       "    </tr>\n",
       "    <tr>\n",
       "      <th>4</th>\n",
       "      <td>5</td>\n",
       "      <td>141682</td>\n",
       "      <td>10141</td>\n",
       "      <td>89</td>\n",
       "      <td>NaN</td>\n",
       "      <td>0</td>\n",
       "      <td>Caucasian</td>\n",
       "      <td>M</td>\n",
       "      <td>170.2</td>\n",
       "      <td>Direct Admit</td>\n",
       "      <td>...</td>\n",
       "      <td>NaN</td>\n",
       "      <td>NaN</td>\n",
       "      <td>NaN</td>\n",
       "      <td>0</td>\n",
       "      <td>0</td>\n",
       "      <td>0</td>\n",
       "      <td>0</td>\n",
       "      <td>0</td>\n",
       "      <td>0</td>\n",
       "      <td>0</td>\n",
       "    </tr>\n",
       "  </tbody>\n",
       "</table>\n",
       "<p>5 rows × 180 columns</p>\n",
       "</div>"
      ],
      "text/plain": [
       "   Unnamed: 0  encounter_id  hospital_id  age  bmi  elective_surgery  \\\n",
       "0           1        144740        10141   72  NaN                 0   \n",
       "1           2        141990        10141   86  NaN                 0   \n",
       "2           3        142038        10141   72  NaN                 0   \n",
       "3           4        138628        10141   66  NaN                 0   \n",
       "4           5        141682        10141   89  NaN                 0   \n",
       "\n",
       "   ethnicity gender  height hospital_admit_source  ... h1_arterial_po2_min  \\\n",
       "0  Caucasian      F   152.4                 Floor  ...                 NaN   \n",
       "1  Caucasian      F   175.3  Emergency Department  ...                 NaN   \n",
       "2  Caucasian      F   162.6                 Floor  ...                 NaN   \n",
       "3  Caucasian      M   177.8                 Floor  ...                 NaN   \n",
       "4  Caucasian      M   170.2          Direct Admit  ...                 NaN   \n",
       "\n",
       "   h1_pao2fio2ratio_max h1_pao2fio2ratio_min aids  cirrhosis  hepatic_failure  \\\n",
       "0                   NaN                  NaN    0          0                0   \n",
       "1                   NaN                  NaN    0          0                0   \n",
       "2                   NaN                  NaN    0          0                0   \n",
       "3                   NaN                  NaN    0          0                0   \n",
       "4                   NaN                  NaN    0          0                0   \n",
       "\n",
       "   immunosuppression  leukemia  lymphoma  solid_tumor_with_metastasis  \n",
       "0                  0         0         0                            0  \n",
       "1                  0         0         0                            0  \n",
       "2                  0         0         0                            0  \n",
       "3                  0         0         0                            0  \n",
       "4                  0         0         0                            0  \n",
       "\n",
       "[5 rows x 180 columns]"
      ]
     },
     "execution_count": 5,
     "metadata": {},
     "output_type": "execute_result"
    }
   ],
   "source": [
    "test.head()"
   ]
  },
  {
   "cell_type": "code",
   "execution_count": 6,
   "metadata": {},
   "outputs": [
    {
     "name": "stdout",
     "output_type": "stream",
     "text": [
      "<class 'pandas.core.frame.DataFrame'>\n",
      "RangeIndex: 130157 entries, 0 to 130156\n",
      "Columns: 181 entries, Unnamed: 0 to diabetes_mellitus\n",
      "dtypes: float64(157), int64(18), object(6)\n",
      "memory usage: 179.7+ MB\n"
     ]
    }
   ],
   "source": [
    "train.info()"
   ]
  },
  {
   "cell_type": "code",
   "execution_count": 7,
   "metadata": {},
   "outputs": [
    {
     "name": "stdout",
     "output_type": "stream",
     "text": [
      "<class 'pandas.core.frame.DataFrame'>\n",
      "RangeIndex: 10234 entries, 0 to 10233\n",
      "Columns: 180 entries, Unnamed: 0 to solid_tumor_with_metastasis\n",
      "dtypes: float64(156), int64(18), object(6)\n",
      "memory usage: 14.1+ MB\n"
     ]
    }
   ],
   "source": [
    "test.info()"
   ]
  },
  {
   "cell_type": "code",
   "execution_count": 8,
   "metadata": {},
   "outputs": [
    {
     "data": {
      "text/plain": [
       "((130157, 181), (10234, 180))"
      ]
     },
     "execution_count": 8,
     "metadata": {},
     "output_type": "execute_result"
    }
   ],
   "source": [
    "train.shape,test.shape"
   ]
  },
  {
   "cell_type": "code",
   "execution_count": 9,
   "metadata": {},
   "outputs": [
    {
     "data": {
      "text/plain": [
       "h1_bilirubin_max     119861\n",
       "h1_bilirubin_min     119861\n",
       "h1_albumin_max       119005\n",
       "h1_albumin_min       119005\n",
       "h1_lactate_min       118467\n",
       "                      ...  \n",
       "icu_stay_type             0\n",
       "icu_id                    0\n",
       "elective_surgery          0\n",
       "hospital_id               0\n",
       "diabetes_mellitus         0\n",
       "Length: 181, dtype: int64"
      ]
     },
     "execution_count": 9,
     "metadata": {},
     "output_type": "execute_result"
    }
   ],
   "source": [
    "train.isnull().sum().sort_values(ascending=False)"
   ]
  },
  {
   "cell_type": "markdown",
   "metadata": {},
   "source": [
    "# After the Exploration of data,\n",
    "# What we got to know\n",
    "1.Shape or our data.\n",
    "\n",
    "2.Null / Missing values in our Dataset.\n"
   ]
  },
  {
   "cell_type": "markdown",
   "metadata": {},
   "source": [
    "# Step 3 \n",
    "# Feature Engineering part\n",
    "\n",
    "1.Filling the Null values\n",
    "\n",
    "2.Converting the categrical features into numeric for better performance of our Model.\n",
    "\n",
    "3.Dropping irrelevant Feature.\n",
    "\n",
    "4.Recheck the Data"
   ]
  },
  {
   "cell_type": "code",
   "execution_count": 10,
   "metadata": {},
   "outputs": [],
   "source": [
    "#removing missing values from categorical features\n",
    "\n",
    "cat_cols=[col for col in train.columns if train[col].dtype==\"object\"]\n",
    "\n",
    "max_val=['Caucasian','M','Emergency Department','Accident & Emergency','admit','Med-Surg ICU']\n",
    "for i,col in enumerate(cat_cols):\n",
    "    if train[col].isnull().any()==True:\n",
    "        train[col]=train[col].fillna(max_val[i])\n",
    "\n",
    "for i,col in enumerate(cat_cols):\n",
    "    if test[col].isnull().any()==True:\n",
    "        test[col]=test[col].fillna(max_val[i])"
   ]
  },
  {
   "cell_type": "code",
   "execution_count": 11,
   "metadata": {},
   "outputs": [],
   "source": [
    "#removing missing values from numerical features\n",
    "\n",
    "for col in train.columns:\n",
    "    if train[col].dtype=='int' or train[col].dtype=='float':\n",
    "        train[col]=train[col].fillna(train[col].median())\n",
    "for col in test.columns:\n",
    "    if test[col].dtype=='int' or test[col].dtype=='float':\n",
    "        test[col]=test[col].fillna(test[col].median())"
   ]
  },
  {
   "cell_type": "code",
   "execution_count": 12,
   "metadata": {},
   "outputs": [],
   "source": [
    "#Removing the Irrelevant \n",
    "\n",
    "train.drop('Unnamed: 0',axis=1,inplace=True)\n",
    "test.drop('Unnamed: 0',axis=1,inplace=True)"
   ]
  },
  {
   "cell_type": "code",
   "execution_count": 13,
   "metadata": {},
   "outputs": [
    {
     "data": {
      "text/plain": [
       "0"
      ]
     },
     "execution_count": 13,
     "metadata": {},
     "output_type": "execute_result"
    }
   ],
   "source": [
    "#Recheck null values\n",
    "\n",
    "train.isnull().sum().sum()"
   ]
  },
  {
   "cell_type": "code",
   "execution_count": 14,
   "metadata": {},
   "outputs": [
    {
     "name": "stderr",
     "output_type": "stream",
     "text": [
      "c:\\python37\\lib\\site-packages\\ipykernel_launcher.py:3: DeprecationWarning: `np.object` is a deprecated alias for the builtin `object`. To silence this warning, use `object` by itself. Doing this will not modify any behavior and is safe. \n",
      "Deprecated in NumPy 1.20; for more details and guidance: https://numpy.org/devdocs/release/1.20.0-notes.html#deprecations\n",
      "  This is separate from the ipykernel package so we can avoid doing imports until\n"
     ]
    },
    {
     "data": {
      "text/plain": [
       "ethnicity                object\n",
       "gender                   object\n",
       "hospital_admit_source    object\n",
       "icu_admit_source         object\n",
       "icu_stay_type            object\n",
       "icu_type                 object\n",
       "dtype: object"
      ]
     },
     "execution_count": 14,
     "metadata": {},
     "output_type": "execute_result"
    }
   ],
   "source": [
    "#Viewing the Categorical feature\n",
    "\n",
    "cat_features = train.select_dtypes(include=[np.object])\n",
    "cat_features.dtypes"
   ]
  },
  {
   "cell_type": "code",
   "execution_count": 15,
   "metadata": {},
   "outputs": [],
   "source": [
    "#Converting object type feature into numeric using label encoding\n",
    "\n",
    "from sklearn.preprocessing import LabelEncoder\n",
    "for col in cat_features:\n",
    "    labelencoder = LabelEncoder()\n",
    "    labelencoder.fit(train[col])\n",
    "    train[col] = labelencoder.fit_transform(train[col])\n",
    "    test[col] = labelencoder.transform(test[col])"
   ]
  },
  {
   "cell_type": "markdown",
   "metadata": {},
   "source": [
    "# Step 4\n",
    "\n",
    "# Visualizing the Data,\n",
    "\n",
    "1.From Seaborn Countplot.\n",
    "\n",
    "2.Heatmap for viewing the strength and directions.\n",
    "\n",
    "3.By this we able to see Positive/Negative correlation between feature.\n",
    "\n",
    "Note :- By defalt correlation matrix, used Pearson's correlation method for determine the correlated features.\n",
    "\n",
    "4.I found good with this correlation that's why i used this\n",
    "\n",
    "You can go with Spearsman Corr \n",
    "\n",
    "5.Feature Selection "
   ]
  },
  {
   "cell_type": "code",
   "execution_count": 16,
   "metadata": {},
   "outputs": [],
   "source": [
    "import seaborn as sns"
   ]
  },
  {
   "cell_type": "code",
   "execution_count": 17,
   "metadata": {},
   "outputs": [
    {
     "name": "stderr",
     "output_type": "stream",
     "text": [
      "c:\\python37\\lib\\site-packages\\seaborn\\_decorators.py:43: FutureWarning: Pass the following variable as a keyword arg: x. From version 0.12, the only valid positional argument will be `data`, and passing other arguments without an explicit keyword will result in an error or misinterpretation.\n",
      "  FutureWarning\n"
     ]
    },
    {
     "data": {
      "text/plain": [
       "<AxesSubplot:xlabel='diabetes_mellitus', ylabel='count'>"
      ]
     },
     "execution_count": 17,
     "metadata": {},
     "output_type": "execute_result"
    },
    {
     "data": {
      "image/png": "[encoded data removed]",
      "text/plain": [
       "<Figure size 432x288 with 1 Axes>"
      ]
     },
     "metadata": {
      "needs_background": "light"
     },
     "output_type": "display_data"
    }
   ],
   "source": [
    "sns.countplot(train['diabetes_mellitus'])"
   ]
  },
  {
   "cell_type": "code",
   "execution_count": 18,
   "metadata": {},
   "outputs": [
    {
     "data": {
      "text/plain": [
       "<AxesSubplot:>"
      ]
     },
     "execution_count": 18,
     "metadata": {},
     "output_type": "execute_result"
    },
    {
     "data": {
      "image/png": "[encoded data removed]",
      "text/plain": [
       "<Figure size 432x288 with 2 Axes>"
      ]
     },
     "metadata": {
      "needs_background": "light"
     },
     "output_type": "display_data"
    }
   ],
   "source": [
    "sns.heatmap(train.corr())"
   ]
  },
  {
   "cell_type": "code",
   "execution_count": 20,
   "metadata": {},
   "outputs": [
    {
     "name": "stdout",
     "output_type": "stream",
     "text": [
      "diabetes_mellitus        1.000000\n",
      "d1_glucose_max           0.400065\n",
      "glucose_apache           0.354489\n",
      "h1_glucose_max           0.251503\n",
      "h1_glucose_min           0.242088\n",
      "                           ...   \n",
      "h1_sysbp_invasive_min    0.000941\n",
      "h1_spo2_min              0.000915\n",
      "intubated_apache         0.000318\n",
      "lymphoma                 0.000253\n",
      "readmission_status            NaN\n",
      "Name: diabetes_mellitus, Length: 180, dtype: float64\n"
     ]
    }
   ],
   "source": [
    "corr_matrix = abs(train.corr())\n",
    "print(corr_matrix[\"diabetes_mellitus\"].sort_values(ascending=False))"
   ]
  },
  {
   "cell_type": "markdown",
   "metadata": {},
   "source": [
    "# Step 5 \n",
    "# Splitting the Dependent and Independent Feature into (X,y), For model building"
   ]
  },
  {
   "cell_type": "code",
   "execution_count": 23,
   "metadata": {},
   "outputs": [],
   "source": [
    "y=train.diabetes_mellitus\n",
    "X=train.drop(['hospital_id','readmission_status','diabetes_mellitus'],axis=1)\n",
    "\n",
    "x_test=test.drop(['hospital_id','readmission_status'],axis=1)"
   ]
  },
  {
   "cell_type": "markdown",
   "metadata": {},
   "source": [
    "# Step 6\n",
    "# Using Lightgbm Classfier for Model Prediction \n",
    "\n",
    "1.It's a boosting technique.\n",
    "\n",
    "2.I found good Accuracy with this model with Hyper Parameter Tuning"
   ]
  },
  {
   "cell_type": "code",
   "execution_count": null,
   "metadata": {},
   "outputs": [],
   "source": [
    "def lgbm(X_train, y_train, X_test, y_test, num, params=None):\n",
    "    # Training function for LGBM with basic categorical features treatment and close to default params\n",
    "\n",
    "    categorical_features = []\n",
    "    for c in X_train.columns:\n",
    "        col_type = X_train[c].dtype\n",
    "        if col_type == \"object\" or col_type.name == \"category\":\n",
    "            # an option in case the data(pandas dataframe) isn't passed with the categorical column type\n",
    "            # X[c] = X[c].astype('category')\n",
    "            categorical_features.append(c)\n",
    "\n",
    "    lgb_train = lgb.Dataset(X_train, y_train, categorical_feature=categorical_features)\n",
    "    lgb_valid = lgb.Dataset(X_test, y_test, categorical_feature=categorical_features)\n",
    "\n",
    "    if params == None:\n",
    "        params = {\n",
    "            \"objective\": \"binary\",\n",
    "            \"boosting\": \"gbdt\",\n",
    "            \"scale_pos_weight\": 0.02,\n",
    "            \"learning_rate\": 0.005,\n",
    "            \"seed\": 100\n",
    "            # 'categorical_feature': 'auto',\n",
    "            # 'metric': 'auc',\n",
    "            # 'scale_pos_weight':0.1,\n",
    "            # 'learning_rate': 0.02,\n",
    "            # 'num_boost_round':2000,\n",
    "            # \"min_sum_hessian_in_leaf\":1,\n",
    "            # 'max_depth' : 100,\n",
    "            # \"bagging_freq\": 2,\n",
    "            # \"num_leaves\":31,\n",
    "            # \"bagging_fraction\" : 0.4,\n",
    "            # \"feature_fraction\" : 0.05,\n",
    "        }\n",
    "\n",
    "    clf = lgb.train(params, lgb_train, num,valid_sets=[lgb_valid])\n",
    "\n",
    "    return clf"
   ]
  },
  {
   "cell_type": "markdown",
   "metadata": {},
   "source": [
    "# Step 7\n",
    "# Plotting the AUC / ROC curve based on Predictions"
   ]
  },
  {
   "cell_type": "code",
   "execution_count": null,
   "metadata": {},
   "outputs": [],
   "source": [
    "\n",
    "\n",
    "##draw roc auc curve\n",
    "def roc_curve_plot(y_test, predictions):\n",
    "    # Roc curve visualization, binary classification including AUC calculation\n",
    "\n",
    "    sns.set_style(\"whitegrid\")\n",
    "    rf_roc_auc = roc_auc_score(y_test, predictions)\n",
    "    rf_fpr, rf_tpr, rf_thresholds = roc_curve(y_test, predictions)\n",
    "\n",
    "    plt.figure(figsize=(8, 6))\n",
    "    plt.plot(rf_fpr, rf_tpr, label=\"LGBM (area = %0.3f)\" % rf_roc_auc)\n",
    "    plt.plot([0, 1], [0, 1], \"r--\")\n",
    "    plt.xlim([0.0, 1.0])\n",
    "    plt.ylim([0.0, 1.05])\n",
    "\n",
    "    plt.xlabel(\"False Positive Rate\", fontsize=14)\n",
    "    plt.ylabel(\"True Positive Rate\", fontsize=14)\n",
    "    plt.title(\"Receiver operating characteristic\", fontsize=17)\n",
    "    plt.legend(loc=\"lower right\")\n",
    "    plt.show()\n",
    "    \n",
    "    return rf_roc_auc\n",
    "\n",
    "\n",
    "# transformation from prediction probabolity to class given the threshold\n",
    "def adjusted_classes(y_scores, t):\n",
    "    # transformation from prediction probabolity to class given the threshold\n",
    "    return [1 if y >= t else 0 for y in y_scores]\n",
    "\n",
    "## cross validation\n",
    "def cv(X, y,iterations, shuffle=True, params=None):\n",
    "    threshold = 0.1\n",
    "    \n",
    "    \n",
    "    prediction_folds = []\n",
    "    y_preds_folds = []\n",
    "    y_folds = []\n",
    "    \n",
    "    skf = StratifiedKFold(n_splits=5, random_state=2, shuffle=shuffle)\n",
    "    for train_index, test_index in tqdm(skf.split(X, y)):\n",
    "        X_train, X_test = X.iloc[train_index], X.iloc[test_index]\n",
    "        y_train, y_test = y.iloc[train_index], y.iloc[test_index]\n",
    "        \n",
    "        clf = lgbm(X_train, y_train, X_test, y_test, iterations, params)\n",
    "        y_preds = clf.predict(X_test)\n",
    "        \n",
    "        predictions = []\n",
    "        predictions = adjusted_classes(y_preds, threshold)\n",
    "        \n",
    "        prediction_folds.extend(predictions)\n",
    "        y_preds_folds.extend(y_preds)\n",
    "        y_folds.extend(y_test)\n",
    "              \n",
    "        \n",
    "        final_clf = lgbm(X, y, X_test, y_test, iterations, params)\n",
    "    \n",
    "    return (final_clf,prediction_folds,y_preds_folds,y_folds)"
   ]
  },
  {
   "cell_type": "markdown",
   "metadata": {},
   "source": [
    "# Step 8\n",
    "# Using Hyper Parameter Tuning "
   ]
  },
  {
   "cell_type": "code",
   "execution_count": null,
   "metadata": {
    "scrolled": true
   },
   "outputs": [],
   "source": [
    "from sklearn.model_selection import StratifiedKFold\n",
    "from tqdm import tqdm\n",
    "import lightgbm as lgb\n",
    "params = {\n",
    "        'boosting_type': 'gbdt',\n",
    "        'objective': 'binary',\n",
    "        'metric': 'auc',\n",
    "        'learning_rate': 0.007,\n",
    "        'subsample': 1,\n",
    "        'colsample_bytree': 0.25,\n",
    "        'reg_alpha': 3,\n",
    "        'reg_lambda': 1,\n",
    "        'scale_pos_weight': 3,\n",
    "        'n_estimators': 15000,\n",
    "        'verbose': 1,\n",
    "        'max_depth': -1,\n",
    "        'seed':100, \n",
    "        'force_col_wise': True\n",
    "\n",
    "}\n",
    "\n",
    "clf,prediction,y_pred,y_test = cv(X,y,16000,params=params)"
   ]
  },
  {
   "cell_type": "markdown",
   "metadata": {},
   "source": [
    "# Step 9\n",
    "# Displaying the Classification Report "
   ]
  },
  {
   "cell_type": "code",
   "execution_count": null,
   "metadata": {},
   "outputs": [],
   "source": [
    "from sklearn.metrics import confusion_matrix,roc_curve, auc,classification_report,roc_auc_score,accuracy_score"
   ]
  },
  {
   "cell_type": "code",
   "execution_count": null,
   "metadata": {},
   "outputs": [],
   "source": [
    "print(classification_report(y_test,prediction))\n",
    "roc_curve_plot(y_test,y_pred)"
   ]
  },
  {
   "cell_type": "markdown",
   "metadata": {},
   "source": [
    "# Step 10\n",
    "\n",
    "# Saving the Prediction Data into Csv file "
   ]
  },
  {
   "cell_type": "code",
   "execution_count": null,
   "metadata": {},
   "outputs": [],
   "source": [
    "preds_test = clf.predict(x_test)\n",
    "download_preds(preds_test, file_name='Explorer.csv')"
   ]
  },
  {
   "cell_type": "code",
   "execution_count": null,
   "metadata": {},
   "outputs": [],
   "source": [
    "preds_test"
   ]
  },
  {
   "cell_type": "markdown",
   "metadata": {},
   "source": [
    "# Thanks "
   ]
  }
 ],
 "metadata": {
  "kernelspec": {
   "display_name": "Python 3",
   "language": "python",
   "name": "python3"
  },
  "language_info": {
   "codemirror_mode": {
    "name": "ipython",
    "version": 3
   },
   "file_extension": ".py",
   "mimetype": "text/x-python",
   "name": "python",
   "nbconvert_exporter": "python",
   "pygments_lexer": "ipython3",
   "version": "3.7.6"
  }
 },
 "nbformat": 4,
 "nbformat_minor": 4
}
